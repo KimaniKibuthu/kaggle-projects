{
 "cells": [
  {
   "cell_type": "code",
   "execution_count": 1,
   "metadata": {},
   "outputs": [
    {
     "data": {
      "text/plain": [
       "True"
      ]
     },
     "execution_count": 1,
     "metadata": {},
     "output_type": "execute_result"
    }
   ],
   "source": [
    "from langchain_community.llms import HuggingFaceEndpoint\n",
    "from langchain.prompts import PromptTemplate\n",
    "from dotenv import load_dotenv\n",
    "import pandas as pd\n",
    "import json\n",
    "load_dotenv()"
   ]
  },
  {
   "cell_type": "code",
   "execution_count": 2,
   "metadata": {},
   "outputs": [
    {
     "name": "stdout",
     "output_type": "stream",
     "text": [
      "Token has not been saved to git credential helper. Pass `add_to_git_credential=True` if you want to set the git credential as well.\n",
      "Token is valid (permission: read).\n",
      "Your token has been saved to C:\\Users\\Spectra\\.cache\\huggingface\\token\n",
      "Login successful\n"
     ]
    }
   ],
   "source": [
    "# Important variables\n",
    "mixtral_repo_id = \"mistralai/Mixtral-8x7B-Instruct-v0.1\"\n",
    "\n",
    "\n",
    "mixtral_llm = HuggingFaceEndpoint(\n",
    "    repo_id=mixtral_repo_id,\n",
    "    temperature=0.3\n",
    ")"
   ]
  },
  {
   "cell_type": "code",
   "execution_count": 3,
   "metadata": {},
   "outputs": [],
   "source": [
    "# Load data\n",
    "test_data = pd.read_csv(\"data/test.csv\")\n",
    "submission_data = pd.read_csv(\"data/sample_submission.csv\")"
   ]
  },
  {
   "cell_type": "code",
   "execution_count": 4,
   "metadata": {},
   "outputs": [],
   "source": [
    "mistral_prompt = \"\"\"\n",
    "\n",
    "Given the following set of (original passage, rewritten passage) pairs, please try to infer the prompt that was used to rewrite each original passage into the corresponding exact rewritten passage. Return ONLY the prompt used.\n",
    "\n",
    "Here are some examples:\n",
    " - original: The old oak tree stood tall and majestic, its branches reaching skyward like outstretched arms. Its weathered bark told the story of generations passed, a silent witness to the ebb and flow of life in the woodland. A serene haven for birds and squirrels, the tree offered shelter and sustenance.\n",
    "   rewritten: The old oak tree stood tall and majestic, its branches reaching skyward like outstretched arms. Its weathered bark told the story of generations passed, a silent witness to the ebb and flow of life in the woodland. A serene haven for birds and squirrels, the tree offered shelter and sustenance. Its leaves danced in the wind, whispering secrets to the forest creatures below.\n",
    "   prompt: Reconstruct the passage from a third-person omniscient point of view.\n",
    "\n",
    " - original: Waves crashed against the rocky shoreline, their rhythmic roar a soothing symphony. The salty tang of the air filled my lungs as I gazed out at the vast, blue expanse. Seagulls soared overhead, their cries mingling with the gentle lapping of the tide. This moment of tranquility was a balm for the soul.\n",
    "   rewritten:Waves crashed against the rocky shore, their roar a soothing symphony. The salty tang of the air filled my lungs as I gazed at the vast, blue expanse. Seagulls soared overhead, their cries echoing the gentle lapping of the tide. This moment of tranquility was a balm for the soul.\n",
    "   prompt: Revise the passage using more concise and compact language, emphasizing streamlining the writing.\n",
    "\n",
    " - original: The city streets bustled with energy, a cacophony of sounds and sights. Skyscrapers reached for the heavens, their glass facades reflecting the ever-changing dance of light and shadow. Amidst the chaos, pockets of green oases offered respite, inviting weary travelers to pause and reconnect with the natural world.\n",
    "   rewritten: The urban streets reverberate with a symphony of activity, a cacophony of sounds and sights. Skyscrapers ascend to celestial heights, their mirrored glass facades mirroring the ephemeral dance of light and shadow. Amidst the tumult, verdant enclaves afford respite, inviting weary travelers to pause and commune with the verdant tapestry of nature.\n",
    "   prompt: Rework the passage in a more formal or academic tone, incorporating more complex sentence structures and elevated vocabulary.\n",
    "\n",
    "Here are the messages:\n",
    "original: {original_message}\n",
    "rewritten: {rewritten_message}\n",
    "\n",
    "Return ONLY the prompt in JSON format:\n",
    "{{prompt:}}\n",
    "\"\"\"\n",
    "\n",
    "prompt_template = PromptTemplate.from_template(mistral_prompt)\n"
   ]
  },
  {
   "cell_type": "code",
   "execution_count": null,
   "metadata": {},
   "outputs": [],
   "source": [
    "\n",
    "original_texts = test_data[\"original_text\"].values\n",
    "rewritten_texts = test_data[\"rewritten_text\"].values\n",
    "\n",
    "reconstructed_prompts = []\n",
    "for original, rewritten in zip(original_texts, rewritten_texts):\n",
    "    test_prompt = prompt_template.format(original_message=original,\n",
    "                       rewritten_message=rewritten)\n",
    "\n",
    "    response = mixtral_llm.invoke(test_prompt)\n",
    "    response = response.replace(\"\\n\", \"\")\n",
    "    try:\n",
    "        dict_response = json.loads(response)\n",
    "        temp_prompt = dict_response.get(\"prompt\")\n",
    "        reconstructed_prompts.append(temp_prompt)\n",
    "    except json.JSONDecodeError:\n",
    "        temp_prompt = response.split(\":\")[1]\n",
    "        reconstructed_prompts.append(temp_prompt.strip())\n",
    "\n",
    "test_data[\"rewrite_prompt\"] = reconstructed_prompts\n",
    "    \n",
    "submission_data = test_data[[\"id\", \"rewrite_prompt\"]]\n",
    "    "
   ]
  }
 ],
 "metadata": {
  "kernelspec": {
   "display_name": ".venv",
   "language": "python",
   "name": "python3"
  },
  "language_info": {
   "codemirror_mode": {
    "name": "ipython",
    "version": 3
   },
   "file_extension": ".py",
   "mimetype": "text/x-python",
   "name": "python",
   "nbconvert_exporter": "python",
   "pygments_lexer": "ipython3",
   "version": "3.11.5"
  }
 },
 "nbformat": 4,
 "nbformat_minor": 2
}
