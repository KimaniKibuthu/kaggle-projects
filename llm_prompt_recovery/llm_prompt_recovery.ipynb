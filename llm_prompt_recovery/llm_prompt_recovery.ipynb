{
 "cells": [
  {
   "cell_type": "markdown",
   "metadata": {},
   "source": [
    "# Prompt recovery\n",
    "\n",
    "The goal for this project is to recreate a prompt used to rewrite a generated text."
   ]
  },
  {
   "cell_type": "markdown",
   "metadata": {},
   "source": [
    "## Import the necessary libraries"
   ]
  },
  {
   "cell_type": "code",
   "execution_count": 22,
   "metadata": {},
   "outputs": [],
   "source": [
    "from langchain_community.llms import HuggingFaceEndpoint\n",
    "from langchain.prompts import PromptTemplate\n",
    "from dotenv import load_dotenv\n",
    "import pandas as pd"
   ]
  },
  {
   "cell_type": "code",
   "execution_count": 2,
   "metadata": {},
   "outputs": [
    {
     "data": {
      "text/plain": [
       "True"
      ]
     },
     "execution_count": 2,
     "metadata": {},
     "output_type": "execute_result"
    }
   ],
   "source": [
    "load_dotenv()"
   ]
  },
  {
   "cell_type": "code",
   "execution_count": 6,
   "metadata": {},
   "outputs": [
    {
     "name": "stdout",
     "output_type": "stream",
     "text": [
      "Token has not been saved to git credential helper. Pass `add_to_git_credential=True` if you want to set the git credential as well.\n",
      "Token is valid (permission: read).\n",
      "Your token has been saved to C:\\Users\\Spectra\\.cache\\huggingface\\token\n",
      "Login successful\n",
      "Token has not been saved to git credential helper. Pass `add_to_git_credential=True` if you want to set the git credential as well.\n",
      "Token is valid (permission: read).\n",
      "Your token has been saved to C:\\Users\\Spectra\\.cache\\huggingface\\token\n",
      "Login successful\n"
     ]
    }
   ],
   "source": [
    "# Important variables\n",
    "mixtral_repo_id = \"mistralai/Mixtral-8x7B-Instruct-v0.1\"\n",
    "gemma_repo_id = \"google/gemma-7b-it\"\n",
    "\n",
    "mixtral_llm = HuggingFaceEndpoint(\n",
    "    repo_id=mixtral_repo_id,\n",
    "    temperature=0.3\n",
    ")\n",
    "gemma_llm = HuggingFaceEndpoint(\n",
    "    repo_id=gemma_repo_id,\n",
    "    temperature=0.5\n",
    ")"
   ]
  },
  {
   "cell_type": "markdown",
   "metadata": {},
   "source": [
    "## Get Text and rewrite prompts"
   ]
  },
  {
   "cell_type": "code",
   "execution_count": 14,
   "metadata": {},
   "outputs": [],
   "source": [
    "messages = [\n",
    "\"The old oak tree stood tall and majestic, its branches reaching skyward like outstretched arms. Its weathered bark told the story of generations passed, a silent witness to the ebb and flow of life in the woodland. A serene haven for birds and squirrels, the tree offered shelter and sustenance.\",\n",
    "\"Waves crashed against the rocky shoreline, their rhythmic roar a soothing symphony. The salty tang of the air filled my lungs as I gazed out at the vast, blue expanse. Seagulls soared overhead, their cries mingling with the gentle lapping of the tide. This moment of tranquility was a balm for the soul.\",\n",
    "\"The city streets bustled with energy, a cacophony of sounds and sights. Skyscrapers reached for the heavens, their glass facades reflecting the ever-changing dance of light and shadow. Amidst the chaos, pockets of green oases offered respite, inviting weary travelers to pause and reconnect with the natural world.\"\n",
    "]\n",
    "\n",
    "prompts = [\n",
    "\"Reconstruct the passage from a third-person omniscient point of view. Return ONLY the reconstructed passage\",\n",
    "\"Revise the passage using more concise and compact language, emphasizing streamlining the writing.Return ONLY the reconstructed passage\",\n",
    "\"Rework the passage in a more formal or academic tone, incorporating more complex sentence structures and elevated vocabulary.Return ONLY the reconstructed passage\"\n",
    "]\n",
    "\n",
    "prompts_and_messages = list(zip(prompts, messages))"
   ]
  },
  {
   "cell_type": "code",
   "execution_count": 15,
   "metadata": {},
   "outputs": [
    {
     "data": {
      "text/plain": [
       "[('Reconstruct the passage from a third-person omniscient point of view. Return ONLY the reconstructed passage',\n",
       "  'The old oak tree stood tall and majestic, its branches reaching skyward like outstretched arms. Its weathered bark told the story of generations passed, a silent witness to the ebb and flow of life in the woodland. A serene haven for birds and squirrels, the tree offered shelter and sustenance.'),\n",
       " ('Revise the passage using more concise and compact language, emphasizing streamlining the writing.Return ONLY the reconstructed passage',\n",
       "  'Waves crashed against the rocky shoreline, their rhythmic roar a soothing symphony. The salty tang of the air filled my lungs as I gazed out at the vast, blue expanse. Seagulls soared overhead, their cries mingling with the gentle lapping of the tide. This moment of tranquility was a balm for the soul.'),\n",
       " ('Rework the passage in a more formal or academic tone, incorporating more complex sentence structures and elevated vocabulary.Return ONLY the reconstructed passage',\n",
       "  'The city streets bustled with energy, a cacophony of sounds and sights. Skyscrapers reached for the heavens, their glass facades reflecting the ever-changing dance of light and shadow. Amidst the chaos, pockets of green oases offered respite, inviting weary travelers to pause and reconnect with the natural world.')]"
      ]
     },
     "execution_count": 15,
     "metadata": {},
     "output_type": "execute_result"
    }
   ],
   "source": [
    "prompts_and_messages "
   ]
  },
  {
   "cell_type": "markdown",
   "metadata": {},
   "source": [
    "## Generate responses from Gemma"
   ]
  },
  {
   "cell_type": "code",
   "execution_count": 16,
   "metadata": {},
   "outputs": [
    {
     "data": {
      "text/plain": [
       "[' As the sun cast long shadows across the ground, the leaves danced in the breeze, whispering secrets to those who paused to listen.\\n\\nThe passage reconstructed in third-person omniscient point of view:\\n\\nThe old oak tree stood tall and majestic, its branches reaching skyward like outstretched arms. Its weathered bark told the story of generations passed, a silent witness to the ebb and flow of life in the woodland. A serene haven for birds and squirrels, the tree offered shelter and sustenance. As the sun cast long shadows across the ground, the leaves danced in the breeze, whispering secrets to those who paused to listen.',\n",
       " '\\n\\n**Revised Passage:**\\n\\nWaves crashed against the rocky shore, their rhythmic roar a soothing symphony. The salty tang of the air filled my lungs as I gazed at the vast, blue expanse. Seagulls soared overhead, their cries blending with the gentle lapping of the tide. This moment of tranquility was a balm for the soul, a respite from the hustle and bustle of daily life.',\n",
       " '\\n\\n**Reconstructed Passage:**\\n\\nThe urban streets reverberate with an energetic symphony of sounds and sights, a testament to the perpetual dance of human activity and the captivating allure of the urban landscape. Skyscrapers pierce the celestial canvas, their mirrored glass facades mirroring the ephemeral choreography of light and shadow that perpetually transpires across the heavens. Within this vibrant tapestry of urban commotion, pockets of verdant respite afford weary travelers an opportunity to pause, reflect, and reconnect with the intrinsic harmony of nature.']"
      ]
     },
     "execution_count": 16,
     "metadata": {},
     "output_type": "execute_result"
    }
   ],
   "source": [
    "responses = [ gemma_llm(f\"{prompt}{message}\")for prompt, message in prompts_and_messages ]\n",
    "responses"
   ]
  },
  {
   "cell_type": "code",
   "execution_count": 17,
   "metadata": {},
   "outputs": [],
   "source": [
    "all_messages_and_prompts = list(zip(responses, messages, prompts))"
   ]
  },
  {
   "cell_type": "code",
   "execution_count": 13,
   "metadata": {},
   "outputs": [
    {
     "data": {
      "text/plain": [
       "[(' Its leaves danced in the wind, whispering secrets to the forest creatures below.\\n\\nSure, here is the passage reconstructed from a third-person omniscient point of view:\\n\\nThe old oak tree stood tall and majestic, its branches reaching skyward like outstretched arms. Its weathered bark told the story of generations passed, a silent witness to the ebb and flow of life in the woodland. A serene haven for birds and squirrels, the tree offered shelter and sustenance. Its leaves danced in the wind, whispering secrets to the forest creatures below.',\n",
       "  'The old oak tree stood tall and majestic, its branches reaching skyward like outstretched arms. Its weathered bark told the story of generations passed, a silent witness to the ebb and flow of life in the woodland. A serene haven for birds and squirrels, the tree offered shelter and sustenance.',\n",
       "  'Reconstruct the passage from a third-person omniscient point of view.'),\n",
       " ('\\n\\nRevised Passage:\\n\\nWaves crashed against the rocky shore, their roar a soothing symphony. The salty tang of the air filled my lungs as I gazed at the vast, blue expanse. Seagulls soared overhead, their cries echoing the gentle lapping of the tide. This moment of tranquility was a balm for the soul. The concise and compact language emphasizes the streamlining of the writing, while maintaining the essence of the original passage.',\n",
       "  'Waves crashed against the rocky shoreline, their rhythmic roar a soothing symphony. The salty tang of the air filled my lungs as I gazed out at the vast, blue expanse. Seagulls soared overhead, their cries mingling with the gentle lapping of the tide. This moment of tranquility was a balm for the soul.',\n",
       "  'Revise the passage using more concise and compact language, emphasizing streamlining the writing.'),\n",
       " ('\\n\\nReworked passage in a more formal or academic tone:\\n\\nThe urban streets reverberate with a symphony of activity, a cacophony of sounds and sights. Skyscrapers ascend to celestial heights, their mirrored glass facades mirroring the ephemeral dance of light and shadow. Amidst the tumult, verdant enclaves afford respite, inviting weary travelers to pause and commune with the verdant tapestry of nature.',\n",
       "  'The city streets bustled with energy, a cacophony of sounds and sights. Skyscrapers reached for the heavens, their glass facades reflecting the ever-changing dance of light and shadow. Amidst the chaos, pockets of green oases offered respite, inviting weary travelers to pause and reconnect with the natural world.',\n",
       "  'Rework the passage in a more formal or academic tone, incorporating more complex sentence structures and elevated vocabulary.')]"
      ]
     },
     "execution_count": 13,
     "metadata": {},
     "output_type": "execute_result"
    }
   ],
   "source": [
    "all_messages_and_prompts"
   ]
  },
  {
   "cell_type": "code",
   "execution_count": 53,
   "metadata": {},
   "outputs": [],
   "source": [
    "# Create a df\n",
    "\n",
    "data = [\n",
    "    {\n",
    "        'original': 'The old oak tree stood tall and majestic, its branches reaching skyward like outstretched arms. Its weathered bark told the story of generations passed, a silent witness to the ebb and flow of life in the woodland. A serene haven for birds and squirrels, the tree offered shelter and sustenance.',\n",
    "        'rewritten': 'The old oak tree stood tall and majestic, its branches reaching skyward like outstretched arms. Its weathered bark told the story of generations passed, a silent witness to the ebb and flow of life in the woodland. A serene haven for birds and squirrels, the tree offered shelter and sustenance. Its leaves danced in the wind, whispering secrets to the forest creatures below.',\n",
    "        'prompt': 'Reconstruct the passage from a third-person omniscient point of view.'\n",
    "    },\n",
    "    {\n",
    "        'original': 'Waves crashed against the rocky shoreline, their rhythmic roar a soothing symphony. The salty tang of the air filled my lungs as I gazed out at the vast, blue expanse. Seagulls soared overhead, their cries mingling with the gentle lapping of the tide. This moment of tranquility was a balm for the soul.',\n",
    "        'rewritten': 'Waves crashed against the rocky shore, their roar a soothing symphony. The salty tang of the air filled my lungs as I gazed at the vast, blue expanse. Seagulls soared overhead, their cries echoing the gentle lapping of the tide. This moment of tranquility was a balm for the soul. The concise and compact language emphasizes the streamlining of the writing, while maintaining the essence of the original passage.',\n",
    "        'prompt': 'Revise the passage using more concise and compact language, emphasizing streamlining the writing.'\n",
    "    },\n",
    "    {\n",
    "        'original': 'The city streets bustled with energy, a cacophony of sounds and sights. Skyscrapers reached for the heavens, their glass facades reflecting the ever-changing dance of light and shadow. Amidst the chaos, pockets of green oases offered respite, inviting weary travelers to pause and reconnect with the natural world.',\n",
    "        'rewritten': 'The urban streets reverberate with a symphony of activity, a cacophony of sounds and sights. Skyscrapers ascend to celestial heights, their mirrored glass facades mirroring the ephemeral dance of light and shadow. Amidst the tumult, verdant enclaves afford respite, inviting weary travelers to pause and commune with the verdant tapestry of nature.',\n",
    "        'prompt': 'Rework the passage in a more formal or academic tone, incorporating more complex sentence structures and elevated vocabulary.'\n",
    "    }\n",
    "]\n",
    "\n",
    "df = pd.DataFrame(data)"
   ]
  },
  {
   "cell_type": "markdown",
   "metadata": {},
   "source": [
    "## Generate responses from mistral"
   ]
  },
  {
   "cell_type": "code",
   "execution_count": 58,
   "metadata": {},
   "outputs": [],
   "source": [
    "mistral_prompt = \"\"\"\n",
    "\n",
    "Given the following set of (original passage, rewritten passage) pairs, please try to infer the prompt that was used to rewrite each original passage into the corresponding exact rewritten passage. Return ONLY the prompt used.\n",
    "\n",
    "Here are some examples:\n",
    " - original: The old oak tree stood tall and majestic, its branches reaching skyward like outstretched arms. Its weathered bark told the story of generations passed, a silent witness to the ebb and flow of life in the woodland. A serene haven for birds and squirrels, the tree offered shelter and sustenance.\n",
    "   rewritten: The old oak tree stood tall and majestic, its branches reaching skyward like outstretched arms. Its weathered bark told the story of generations passed, a silent witness to the ebb and flow of life in the woodland. A serene haven for birds and squirrels, the tree offered shelter and sustenance. Its leaves danced in the wind, whispering secrets to the forest creatures below.\n",
    "   prompt: Reconstruct the passage from a third-person omniscient point of view.\n",
    "\n",
    " - original: Waves crashed against the rocky shoreline, their rhythmic roar a soothing symphony. The salty tang of the air filled my lungs as I gazed out at the vast, blue expanse. Seagulls soared overhead, their cries mingling with the gentle lapping of the tide. This moment of tranquility was a balm for the soul.\n",
    "   rewritten:Waves crashed against the rocky shore, their roar a soothing symphony. The salty tang of the air filled my lungs as I gazed at the vast, blue expanse. Seagulls soared overhead, their cries echoing the gentle lapping of the tide. This moment of tranquility was a balm for the soul.\n",
    "   prompt: Revise the passage using more concise and compact language, emphasizing streamlining the writing.\n",
    "\n",
    " - original: The city streets bustled with energy, a cacophony of sounds and sights. Skyscrapers reached for the heavens, their glass facades reflecting the ever-changing dance of light and shadow. Amidst the chaos, pockets of green oases offered respite, inviting weary travelers to pause and reconnect with the natural world.\n",
    "   rewritten: The urban streets reverberate with a symphony of activity, a cacophony of sounds and sights. Skyscrapers ascend to celestial heights, their mirrored glass facades mirroring the ephemeral dance of light and shadow. Amidst the tumult, verdant enclaves afford respite, inviting weary travelers to pause and commune with the verdant tapestry of nature.\n",
    "   prompt: Rework the passage in a more formal or academic tone, incorporating more complex sentence structures and elevated vocabulary.\n",
    "\n",
    "Here are the messages:\n",
    "original: {original_message}\n",
    "rewritten: {rewritten_message}\n",
    "\n",
    "Return ONLY the prompt in JSON format:\n",
    "{{prompt:}}\n",
    "\"\"\"\n",
    "\n",
    "prompt_template = PromptTemplate.from_template(mistral_prompt)\n"
   ]
  },
  {
   "cell_type": "code",
   "execution_count": 27,
   "metadata": {},
   "outputs": [],
   "source": [
    "# Load data\n",
    "train_data = pd.read_csv(\"data/train.csv\")\n",
    "test_data = pd.read_csv(\"data/test.csv\")\n",
    "submission_data = pd.read_csv(\"data/sample_submission.csv\")"
   ]
  },
  {
   "cell_type": "code",
   "execution_count": 24,
   "metadata": {},
   "outputs": [
    {
     "data": {
      "text/html": [
       "<div>\n",
       "<style scoped>\n",
       "    .dataframe tbody tr th:only-of-type {\n",
       "        vertical-align: middle;\n",
       "    }\n",
       "\n",
       "    .dataframe tbody tr th {\n",
       "        vertical-align: top;\n",
       "    }\n",
       "\n",
       "    .dataframe thead th {\n",
       "        text-align: right;\n",
       "    }\n",
       "</style>\n",
       "<table border=\"1\" class=\"dataframe\">\n",
       "  <thead>\n",
       "    <tr style=\"text-align: right;\">\n",
       "      <th></th>\n",
       "      <th>id</th>\n",
       "      <th>original_text</th>\n",
       "      <th>rewrite_prompt</th>\n",
       "      <th>rewritten_text</th>\n",
       "    </tr>\n",
       "  </thead>\n",
       "  <tbody>\n",
       "    <tr>\n",
       "      <th>0</th>\n",
       "      <td>-1</td>\n",
       "      <td>The competition dataset comprises text passage...</td>\n",
       "      <td>Convert this into a sea shanty: \"\"\"The competi...</td>\n",
       "      <td>Here is your shanty: (Verse 1) The text is rew...</td>\n",
       "    </tr>\n",
       "  </tbody>\n",
       "</table>\n",
       "</div>"
      ],
      "text/plain": [
       "   id                                      original_text  \\\n",
       "0  -1  The competition dataset comprises text passage...   \n",
       "\n",
       "                                      rewrite_prompt  \\\n",
       "0  Convert this into a sea shanty: \"\"\"The competi...   \n",
       "\n",
       "                                      rewritten_text  \n",
       "0  Here is your shanty: (Verse 1) The text is rew...  "
      ]
     },
     "execution_count": 24,
     "metadata": {},
     "output_type": "execute_result"
    }
   ],
   "source": [
    "train_data"
   ]
  },
  {
   "cell_type": "code",
   "execution_count": 28,
   "metadata": {},
   "outputs": [
    {
     "data": {
      "text/html": [
       "<div>\n",
       "<style scoped>\n",
       "    .dataframe tbody tr th:only-of-type {\n",
       "        vertical-align: middle;\n",
       "    }\n",
       "\n",
       "    .dataframe tbody tr th {\n",
       "        vertical-align: top;\n",
       "    }\n",
       "\n",
       "    .dataframe thead th {\n",
       "        text-align: right;\n",
       "    }\n",
       "</style>\n",
       "<table border=\"1\" class=\"dataframe\">\n",
       "  <thead>\n",
       "    <tr style=\"text-align: right;\">\n",
       "      <th></th>\n",
       "      <th>id</th>\n",
       "      <th>original_text</th>\n",
       "      <th>rewritten_text</th>\n",
       "    </tr>\n",
       "  </thead>\n",
       "  <tbody>\n",
       "    <tr>\n",
       "      <th>0</th>\n",
       "      <td>-1</td>\n",
       "      <td>The competition dataset comprises text passage...</td>\n",
       "      <td>Here is your shanty: (Verse 1) The text is rew...</td>\n",
       "    </tr>\n",
       "  </tbody>\n",
       "</table>\n",
       "</div>"
      ],
      "text/plain": [
       "   id                                      original_text  \\\n",
       "0  -1  The competition dataset comprises text passage...   \n",
       "\n",
       "                                      rewritten_text  \n",
       "0  Here is your shanty: (Verse 1) The text is rew...  "
      ]
     },
     "execution_count": 28,
     "metadata": {},
     "output_type": "execute_result"
    }
   ],
   "source": [
    "test_data"
   ]
  },
  {
   "cell_type": "code",
   "execution_count": 31,
   "metadata": {},
   "outputs": [
    {
     "data": {
      "text/html": [
       "<div>\n",
       "<style scoped>\n",
       "    .dataframe tbody tr th:only-of-type {\n",
       "        vertical-align: middle;\n",
       "    }\n",
       "\n",
       "    .dataframe tbody tr th {\n",
       "        vertical-align: top;\n",
       "    }\n",
       "\n",
       "    .dataframe thead th {\n",
       "        text-align: right;\n",
       "    }\n",
       "</style>\n",
       "<table border=\"1\" class=\"dataframe\">\n",
       "  <thead>\n",
       "    <tr style=\"text-align: right;\">\n",
       "      <th></th>\n",
       "      <th>id</th>\n",
       "      <th>rewrite_prompt</th>\n",
       "    </tr>\n",
       "  </thead>\n",
       "  <tbody>\n",
       "    <tr>\n",
       "      <th>0</th>\n",
       "      <td>9559194</td>\n",
       "      <td>Improve that text.</td>\n",
       "    </tr>\n",
       "  </tbody>\n",
       "</table>\n",
       "</div>"
      ],
      "text/plain": [
       "        id      rewrite_prompt\n",
       "0  9559194  Improve that text."
      ]
     },
     "execution_count": 31,
     "metadata": {},
     "output_type": "execute_result"
    }
   ],
   "source": [
    "submission_data"
   ]
  },
  {
   "cell_type": "code",
   "execution_count": 25,
   "metadata": {},
   "outputs": [
    {
     "data": {
      "text/plain": [
       "array(['The competition dataset comprises text passages that have been rewritten by the Gemma LLM according to some rewrite_prompt instruction. The goal of the competition is to determine what prompt was used to rewrite each original text.  Please note that this is a Code Competition. When your submission is scored, this example test data will be replaced with the full test set. Expect roughly 2,000 original texts in the test set.'],\n",
       "      dtype=object)"
      ]
     },
     "execution_count": 25,
     "metadata": {},
     "output_type": "execute_result"
    }
   ],
   "source": [
    "train_data[\"original_text\"].values"
   ]
  },
  {
   "cell_type": "markdown",
   "metadata": {},
   "source": [
    "## Test"
   ]
  },
  {
   "cell_type": "code",
   "execution_count": 39,
   "metadata": {},
   "outputs": [],
   "source": [
    "test_prompts = [\n",
    "\"Rewrite the passage from a more objective, third-person perspective.\",\n",
    "\"Expand on the original passage, adding more vivid sensory details and descriptive elements.\",\n",
    "\"Rework the tone of the passage to be more introspective and reflective.\",\n",
    "\"Streamline the original text, focusing on concision and impactful phrasing.\",\n",
    "\"Transform the passage into a more formal, academic style with complex sentence structures.\",\n",
    "\"Rewrite the excerpt to emphasize a stronger narrative arc or sense of progression.\",\n",
    "\"Adapt the original to convey a greater sense of atmosphere and emotional resonance.\",\n",
    "\"Condense the passage while preserving the essential imagery and impressions.\",\n",
    "\"Rephrase the text to adopt a more whimsical, imaginative tone.\",\n",
    "\"Recast the passage from an alternative point of view to provide new insights.\"\n",
    "]\n",
    "\n",
    "test_messages =  [\n",
    "\"The waves crashed against the shore, filling the air with the salty scent of the sea. I watched, mesmerized, as the sun dipped below the horizon, casting a warm glow over the water.\",\n",
    "\"The forest was alive with the sounds of chirping birds and rustling leaves.\",\n",
    "\"The city streets bustled with energy, a cacophony of sounds and sights.\",\n",
    "\"The majestic snow-capped peaks rose before us, their towering summits piercing the azure sky. We stood in awe, humbled by the grandeur of the mountain range that stretched out as far as the eye could see.\",\n",
    "\"The warmth of the summer sun caressed my skin as I strolled through the vibrant garden.\",\n",
    "\"The city streets glowed with the warm light of the setting sun, casting long shadows across the pavement.\",\n",
    "\"The gentle breeze rustled the leaves of the old oak tree.\",\n",
    "\"The sun's radiant rays illuminated the tranquil lake, casting a shimmering dance of light across the gently rippling surface.\",\n",
    "\"The city skyline stretched out before us, a dazzling array of towering skyscrapers and glittering lights.\",\n",
    "\"I stood at the edge of the cliff, gazing out at the vast, endless ocean.\"\n",
    "]\n",
    "\n",
    "test_prompts_and_messages = list(zip(prompts, messages))"
   ]
  },
  {
   "cell_type": "code",
   "execution_count": 51,
   "metadata": {},
   "outputs": [],
   "source": [
    "test_response = gemma_llm.invoke(f\"{test_prompts[8]}{test_messages[-1]}\")"
   ]
  },
  {
   "cell_type": "code",
   "execution_count": 36,
   "metadata": {},
   "outputs": [
    {
     "data": {
      "text/plain": [
       "PromptTemplate(input_variables=['original_message', 'rewritten_message'], template='\\nGiven the following set of (original passage, rewritten passage) pairs, please try to infer the prompt that was used to rewrite each original passage into the corresponding exact rewritten passage. Return ONLY the prompt used.\\n\\nHere are some examples:\\n - original: The old oak tree stood tall and majestic, its branches reaching skyward like outstretched arms. Its weathered bark told the story of generations passed, a silent witness to the ebb and flow of life in the woodland. A serene haven for birds and squirrels, the tree offered shelter and sustenance.\\n   rewritten: Its leaves danced in the wind, whispering secrets to the forest creatures below.\\n   \\n   Sure, here is the passage reconstructed from a third-person omniscient point of view:\\n   \\n   The old oak tree stood tall and majestic, its branches reaching skyward like outstretched arms. Its weathered bark told the story of generations passed, a silent witness to the ebb and flow of life in the woodland. A serene haven for birds and squirrels, the tree offered shelter and sustenance. Its leaves danced in the wind, whispering secrets to the forest creatures below.\\n   prompt: Reconstruct the passage from a third-person omniscient point of view.\\n\\n - original: Waves crashed against the rocky shoreline, their rhythmic roar a soothing symphony. The salty tang of the air filled my lungs as I gazed out at the vast, blue expanse. Seagulls soared overhead, their cries mingling with the gentle lapping of the tide. This moment of tranquility was a balm for the soul.\\n   rewritten: Waves crashed against the rocky shore, their roar a soothing symphony. The salty tang of the air filled my lungs as I gazed at the vast, blue expanse. Seagulls soared overhead, their cries echoing the gentle lapping of the tide. This moment of tranquility was a balm for the soul.\\n   \\n   Revised Passage:\\n   \\n   Waves crashed against the rocky shore, their roar a soothing symphony. The salty tang of the air filled my lungs as I gazed at the vast, blue expanse. Seagulls soared overhead, their cries echoing the gentle lapping of the tide. This moment of tranquility was a balm for the soul.\\n   prompt: Revise the passage using more concise and compact language, emphasizing streamlining the writing.\\n\\n - original: The city streets bustled with energy, a cacophony of sounds and sights. Skyscrapers reached for the heavens, their glass facades reflecting the ever-changing dance of light and shadow. Amidst the chaos, pockets of green oases offered respite, inviting weary travelers to pause and reconnect with the natural world.\\n   rewritten: The urban streets reverberate with a symphony of activity, a cacophony of sounds and sights. Skyscrapers ascend to celestial heights, their mirrored glass facades mirroring the ephemeral dance of light and shadow. Amidst the tumult, verdant enclaves afford respite, inviting weary travelers to pause and commune with the verdant tapestry of nature.\\n   \\n   Reworked passage in a more formal or academic tone:\\n   \\n   The urban streets reverberate with a symphony of activity, a cacophony of sounds and sights. Skyscrapers ascend to celestial heights, their mirrored glass facades mirroring the ephemeral dance of light and shadow. Amidst the tumult, verdant enclaves afford respite, inviting weary travelers to pause and commune with the verdant tapestry of nature.\\n   prompt: Rework the passage in a more formal or academic tone, incorporating more complex sentence structures and elevated vocabulary.\\n\\nHere are the messages:\\noriginal: {original_message}\\nrewritten: {rewritten_message}\\nprompt:\\n')"
      ]
     },
     "execution_count": 36,
     "metadata": {},
     "output_type": "execute_result"
    }
   ],
   "source": [
    "prompt_template"
   ]
  },
  {
   "cell_type": "code",
   "execution_count": 59,
   "metadata": {},
   "outputs": [
    {
     "data": {
      "text/plain": [
       "'\\n{\\n  \"prompt\": \"Rewrite the passage in a more poetic and descriptive manner, incorporating figurative language and sensory details.\"\\n}'"
      ]
     },
     "execution_count": 59,
     "metadata": {},
     "output_type": "execute_result"
    }
   ],
   "source": [
    "test_prompt = prompt_template.format(original_message=test_messages[-1],\n",
    "                       rewritten_message=test_response)\n",
    "\n",
    "mixtral_llm.invoke(test_prompt)"
   ]
  },
  {
   "cell_type": "code",
   "execution_count": 54,
   "metadata": {},
   "outputs": [
    {
     "data": {
      "text/html": [
       "<div>\n",
       "<style scoped>\n",
       "    .dataframe tbody tr th:only-of-type {\n",
       "        vertical-align: middle;\n",
       "    }\n",
       "\n",
       "    .dataframe tbody tr th {\n",
       "        vertical-align: top;\n",
       "    }\n",
       "\n",
       "    .dataframe thead th {\n",
       "        text-align: right;\n",
       "    }\n",
       "</style>\n",
       "<table border=\"1\" class=\"dataframe\">\n",
       "  <thead>\n",
       "    <tr style=\"text-align: right;\">\n",
       "      <th></th>\n",
       "      <th>original</th>\n",
       "      <th>rewritten</th>\n",
       "      <th>prompt</th>\n",
       "    </tr>\n",
       "  </thead>\n",
       "  <tbody>\n",
       "    <tr>\n",
       "      <th>0</th>\n",
       "      <td>The old oak tree stood tall and majestic, its ...</td>\n",
       "      <td>The old oak tree stood tall and majestic, its ...</td>\n",
       "      <td>Reconstruct the passage from a third-person om...</td>\n",
       "    </tr>\n",
       "    <tr>\n",
       "      <th>1</th>\n",
       "      <td>Waves crashed against the rocky shoreline, the...</td>\n",
       "      <td>Waves crashed against the rocky shore, their r...</td>\n",
       "      <td>Revise the passage using more concise and comp...</td>\n",
       "    </tr>\n",
       "    <tr>\n",
       "      <th>2</th>\n",
       "      <td>The city streets bustled with energy, a cacoph...</td>\n",
       "      <td>The urban streets reverberate with a symphony ...</td>\n",
       "      <td>Rework the passage in a more formal or academi...</td>\n",
       "    </tr>\n",
       "  </tbody>\n",
       "</table>\n",
       "</div>"
      ],
      "text/plain": [
       "                                            original  \\\n",
       "0  The old oak tree stood tall and majestic, its ...   \n",
       "1  Waves crashed against the rocky shoreline, the...   \n",
       "2  The city streets bustled with energy, a cacoph...   \n",
       "\n",
       "                                           rewritten  \\\n",
       "0  The old oak tree stood tall and majestic, its ...   \n",
       "1  Waves crashed against the rocky shore, their r...   \n",
       "2  The urban streets reverberate with a symphony ...   \n",
       "\n",
       "                                              prompt  \n",
       "0  Reconstruct the passage from a third-person om...  \n",
       "1  Revise the passage using more concise and comp...  \n",
       "2  Rework the passage in a more formal or academi...  "
      ]
     },
     "execution_count": 54,
     "metadata": {},
     "output_type": "execute_result"
    }
   ],
   "source": [
    "df"
   ]
  },
  {
   "cell_type": "code",
   "execution_count": 74,
   "metadata": {},
   "outputs": [],
   "source": [
    "import json\n",
    "\n",
    "original_texts = df[\"original\"].values\n",
    "rewritten_texts = df[\"rewritten\"].values\n",
    "\n",
    "reconstructed_prompts = []\n",
    "for original, rewritten in zip(original_texts, rewritten_texts):\n",
    "    test_prompt = prompt_template.format(original_message=original,\n",
    "                       rewritten_message=rewritten)\n",
    "\n",
    "    response = mixtral_llm.invoke(test_prompt)\n",
    "    response = response.replace(\"\\n\", \"\")\n",
    "    try:\n",
    "        dict_response = json.loads(response)\n",
    "        temp_prompt = dict_response.get(\"prompt\")\n",
    "        reconstructed_prompts.append(temp_prompt)\n",
    "    except json.JSONDecodeError:\n",
    "        temp_prompt = response.split(\":\")[1]\n",
    "        reconstructed_prompts.append(temp_prompt.strip())\n",
    "\n",
    "df[\"rewrite_prompt\"] = reconstructed_prompts\n",
    "\n",
    "\n",
    "        \n",
    "        \n",
    "    \n",
    "    "
   ]
  },
  {
   "cell_type": "code",
   "execution_count": 75,
   "metadata": {},
   "outputs": [
    {
     "data": {
      "text/html": [
       "<div>\n",
       "<style scoped>\n",
       "    .dataframe tbody tr th:only-of-type {\n",
       "        vertical-align: middle;\n",
       "    }\n",
       "\n",
       "    .dataframe tbody tr th {\n",
       "        vertical-align: top;\n",
       "    }\n",
       "\n",
       "    .dataframe thead th {\n",
       "        text-align: right;\n",
       "    }\n",
       "</style>\n",
       "<table border=\"1\" class=\"dataframe\">\n",
       "  <thead>\n",
       "    <tr style=\"text-align: right;\">\n",
       "      <th></th>\n",
       "      <th>original</th>\n",
       "      <th>rewritten</th>\n",
       "      <th>prompt</th>\n",
       "      <th>rewrite_prompt</th>\n",
       "    </tr>\n",
       "  </thead>\n",
       "  <tbody>\n",
       "    <tr>\n",
       "      <th>0</th>\n",
       "      <td>The old oak tree stood tall and majestic, its ...</td>\n",
       "      <td>The old oak tree stood tall and majestic, its ...</td>\n",
       "      <td>Reconstruct the passage from a third-person om...</td>\n",
       "      <td>Reconstruct the passage from a third-person om...</td>\n",
       "    </tr>\n",
       "    <tr>\n",
       "      <th>1</th>\n",
       "      <td>Waves crashed against the rocky shoreline, the...</td>\n",
       "      <td>Waves crashed against the rocky shore, their r...</td>\n",
       "      <td>The concise and compact language emphasizes th...</td>\n",
       "      <td>The concise and compact language emphasizes th...</td>\n",
       "    </tr>\n",
       "    <tr>\n",
       "      <th>2</th>\n",
       "      <td>The city streets bustled with energy, a cacoph...</td>\n",
       "      <td>The urban streets reverberate with a symphony ...</td>\n",
       "      <td>Rework the passage in a more formal or academi...</td>\n",
       "      <td>Rework the passage in a more formal or academi...</td>\n",
       "    </tr>\n",
       "  </tbody>\n",
       "</table>\n",
       "</div>"
      ],
      "text/plain": [
       "                                            original  \\\n",
       "0  The old oak tree stood tall and majestic, its ...   \n",
       "1  Waves crashed against the rocky shoreline, the...   \n",
       "2  The city streets bustled with energy, a cacoph...   \n",
       "\n",
       "                                           rewritten  \\\n",
       "0  The old oak tree stood tall and majestic, its ...   \n",
       "1  Waves crashed against the rocky shore, their r...   \n",
       "2  The urban streets reverberate with a symphony ...   \n",
       "\n",
       "                                              prompt  \\\n",
       "0  Reconstruct the passage from a third-person om...   \n",
       "1  The concise and compact language emphasizes th...   \n",
       "2  Rework the passage in a more formal or academi...   \n",
       "\n",
       "                                      rewrite_prompt  \n",
       "0  Reconstruct the passage from a third-person om...  \n",
       "1  The concise and compact language emphasizes th...  \n",
       "2  Rework the passage in a more formal or academi...  "
      ]
     },
     "execution_count": 75,
     "metadata": {},
     "output_type": "execute_result"
    }
   ],
   "source": [
    "df"
   ]
  },
  {
   "cell_type": "code",
   "execution_count": 64,
   "metadata": {},
   "outputs": [],
   "source": [
    "stringz = '{\\n\"prompt\": \"Reconstruct the passage from a third-person omniscient point of view.\"\\n}'"
   ]
  },
  {
   "cell_type": "code",
   "execution_count": 69,
   "metadata": {},
   "outputs": [
    {
     "data": {
      "text/plain": [
       "'{\"prompt\": \"Reconstruct the passage from a third-person omniscient point of view.\"}'"
      ]
     },
     "execution_count": 69,
     "metadata": {},
     "output_type": "execute_result"
    }
   ],
   "source": [
    "stringz.replace(\"\\n\", \"\")"
   ]
  },
  {
   "cell_type": "code",
   "execution_count": null,
   "metadata": {},
   "outputs": [],
   "source": []
  }
 ],
 "metadata": {
  "kernelspec": {
   "display_name": "base",
   "language": "python",
   "name": "python3"
  },
  "language_info": {
   "codemirror_mode": {
    "name": "ipython",
    "version": 3
   },
   "file_extension": ".py",
   "mimetype": "text/x-python",
   "name": "python",
   "nbconvert_exporter": "python",
   "pygments_lexer": "ipython3",
   "version": "3.11.5"
  }
 },
 "nbformat": 4,
 "nbformat_minor": 2
}
